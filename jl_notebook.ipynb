{
 "cells": [
  {
   "cell_type": "code",
   "execution_count": 1,
   "id": "701f0db3-679c-42c2-85ad-3fc06b2a38f1",
   "metadata": {},
   "outputs": [],
   "source": [
    "from nommon_pizza.shop.shop import Shop"
   ]
  },
  {
   "cell_type": "code",
   "execution_count": 2,
   "id": "11a4da97-4da2-4bc2-8235-56120ead3168",
   "metadata": {},
   "outputs": [
    {
     "data": {
      "text/plain": [
       "'OK'"
      ]
     },
     "execution_count": 2,
     "metadata": {},
     "output_type": "execute_result"
    }
   ],
   "source": [
    "shop = Shop.create_shop()\n",
    "shop.adjust_salaries(1.1)"
   ]
  },
  {
   "cell_type": "code",
   "execution_count": null,
   "id": "7bd9f5d5-dc06-479d-87b6-a62796fb522d",
   "metadata": {},
   "outputs": [],
   "source": []
  }
 ],
 "metadata": {
  "kernelspec": {
   "display_name": "Python 3 (ipykernel)",
   "language": "python",
   "name": "python3"
  },
  "language_info": {
   "codemirror_mode": {
    "name": "ipython",
    "version": 3
   },
   "file_extension": ".py",
   "mimetype": "text/x-python",
   "name": "python",
   "nbconvert_exporter": "python",
   "pygments_lexer": "ipython3",
   "version": "3.10.6"
  }
 },
 "nbformat": 4,
 "nbformat_minor": 5
}
