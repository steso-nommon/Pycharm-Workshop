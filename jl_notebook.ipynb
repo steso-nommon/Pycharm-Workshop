{
 "cells": [
  {
   "cell_type": "code",
   "execution_count": 1,
   "id": "701f0db3-679c-42c2-85ad-3fc06b2a38f1",
   "metadata": {},
   "outputs": [],
   "source": [
    "from nommon_pizza.shop.shop import Shop"
   ]
  },
  {
   "cell_type": "code",
   "execution_count": 2,
   "id": "11a4da97-4da2-4bc2-8235-56120ead3168",
   "metadata": {},
   "outputs": [
    {
     "data": {
      "text/plain": [
       "'OK'"
      ]
     },
     "execution_count": 2,
     "metadata": {},
     "output_type": "execute_result"
    }
   ],
   "source": [
    "shop = Shop.create_shop()\n",
    "shop.adjust_salaries(1.1)"
   ]
  },
  {
   "cell_type": "code",
   "execution_count": 3,
   "id": "d55d3788-a73e-420e-9251-c9659149de2a",
   "metadata": {},
   "outputs": [
    {
     "ename": "ZeroDivisionError",
     "evalue": "float division by zero",
     "output_type": "error",
     "traceback": [
      "\u001b[0;31m---------------------------------------------------------------------------\u001b[0m",
      "\u001b[0;31mZeroDivisionError\u001b[0m                         Traceback (most recent call last)",
      "Cell \u001b[0;32mIn [3], line 1\u001b[0m\n\u001b[0;32m----> 1\u001b[0m \u001b[43mshop\u001b[49m\u001b[38;5;241;43m.\u001b[39;49m\u001b[43madjust_salaries\u001b[49m\u001b[43m(\u001b[49m\u001b[38;5;241;43m0\u001b[39;49m\u001b[43m)\u001b[49m\n",
      "File \u001b[0;32m/opt/shared/nommon_pizza/shop/shop.py:41\u001b[0m, in \u001b[0;36mShop.adjust_salaries\u001b[0;34m(self, salary_adjust_percentage)\u001b[0m\n\u001b[1;32m     38\u001b[0m \u001b[38;5;28;01mfor\u001b[39;00m employee \u001b[38;5;129;01min\u001b[39;00m \u001b[38;5;28mself\u001b[39m\u001b[38;5;241m.\u001b[39memployees\u001b[38;5;241m.\u001b[39mvalues():\n\u001b[1;32m     39\u001b[0m     employee\u001b[38;5;241m.\u001b[39msalary \u001b[38;5;241m*\u001b[39m\u001b[38;5;241m=\u001b[39m salary_adjust_percentage\n\u001b[0;32m---> 41\u001b[0m \u001b[38;5;28mself\u001b[39m\u001b[38;5;241m.\u001b[39mproduct_owner\u001b[38;5;241m.\u001b[39msalary \u001b[38;5;241m/\u001b[39m\u001b[38;5;241m=\u001b[39m salary_adjust_percentage\n\u001b[1;32m     43\u001b[0m \u001b[38;5;28;01mreturn\u001b[39;00m \u001b[38;5;124m\"\u001b[39m\u001b[38;5;124mOK\u001b[39m\u001b[38;5;124m\"\u001b[39m\n",
      "\u001b[0;31mZeroDivisionError\u001b[0m: float division by zero"
     ]
    }
   ],
   "source": [
    "shop.adjust_salaries(0)"
   ]
  },
  {
   "cell_type": "code",
   "execution_count": null,
   "id": "7bd9f5d5-dc06-479d-87b6-a62796fb522d",
   "metadata": {},
   "outputs": [],
   "source": []
  }
 ],
 "metadata": {
  "kernelspec": {
   "display_name": "Python 3 (ipykernel)",
   "language": "python",
   "name": "python3"
  },
  "language_info": {
   "codemirror_mode": {
    "name": "ipython",
    "version": 3
   },
   "file_extension": ".py",
   "mimetype": "text/x-python",
   "name": "python",
   "nbconvert_exporter": "python",
   "pygments_lexer": "ipython3",
   "version": "3.10.6"
  }
 },
 "nbformat": 4,
 "nbformat_minor": 5
}
